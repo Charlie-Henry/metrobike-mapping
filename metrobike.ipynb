{
 "cells": [
  {
   "cell_type": "code",
   "execution_count": 1,
   "id": "1864e91c-c303-46eb-8f60-1fee82dbfec4",
   "metadata": {},
   "outputs": [],
   "source": [
    "import pandas as pd\n",
    "import requests\n",
    "import json"
   ]
  },
  {
   "cell_type": "code",
   "execution_count": 2,
   "id": "309bc3fc-1002-4e19-8e4a-0f78e20eb8bc",
   "metadata": {},
   "outputs": [],
   "source": [
    "query = \"\"\"\n",
    "https://data.austintexas.gov/resource/tyfh-5r8s.json?$select=checkout_kiosk_id%20as%20origin,%20return_kiosk_id%20as%20dest,%20count(trip_id)%20as%20count,%20checkout_date%20as%20time,%20date_extract_y(checkout_date)%20as%20year&$where=year%20%3E%202013&$group=origin,%20dest,%20time&$order=time\n",
    "\"\"\""
   ]
  },
  {
   "cell_type": "code",
   "execution_count": 3,
   "id": "86e11055-e423-42ec-b839-8eced6df165a",
   "metadata": {},
   "outputs": [],
   "source": [
    "chunk_size = 10000\n",
    "\n",
    "offset = 0\n",
    "res = requests.get(query + f\"&$limit={chunk_size}&$offset={offset}\")\n",
    "data = json.loads(res.text)\n",
    "output = []\n",
    "\n",
    "while data:\n",
    "    output = output + data\n",
    "    offset += chunk_size\n",
    "    res = requests.get(query + f\"&$limit={chunk_size}&$offset={offset}\")\n",
    "    data = json.loads(res.text)"
   ]
  },
  {
   "cell_type": "code",
   "execution_count": 4,
   "id": "74203ca1-8f3d-4382-92eb-a20d824c44b9",
   "metadata": {},
   "outputs": [],
   "source": [
    "df = pd.DataFrame(output)\n",
    "df[\"time\"] = pd.to_datetime(df[\"time\"]).dt.strftime(\"%Y-%m-%d\")"
   ]
  },
  {
   "cell_type": "code",
   "execution_count": 5,
   "id": "69032e9d-a44a-41f1-9dfe-09e07d5318bd",
   "metadata": {},
   "outputs": [],
   "source": [
    "years = df[\"year\"].unique()"
   ]
  },
  {
   "cell_type": "code",
   "execution_count": 6,
   "id": "591eaa95-a52d-4200-94bb-63a070b24d5c",
   "metadata": {},
   "outputs": [
    {
     "data": {
      "text/plain": [
       "array(['2014', '2015', '2016', '2017', '2018', '2019', '2020', '2021',\n",
       "       '2022', '2023'], dtype=object)"
      ]
     },
     "execution_count": 6,
     "metadata": {},
     "output_type": "execute_result"
    }
   ],
   "source": [
    "years"
   ]
  },
  {
   "cell_type": "code",
   "execution_count": 7,
   "id": "83522e10-c139-4004-adf5-aa67949783d5",
   "metadata": {},
   "outputs": [],
   "source": [
    "# reading an historical archive of metrobike kiosk locations\n",
    "locs = pd.read_csv(\"locations_archive.csv\")"
   ]
  },
  {
   "cell_type": "code",
   "execution_count": 9,
   "id": "446c36f8-5809-4199-9ef7-0b5d00c11dec",
   "metadata": {},
   "outputs": [],
   "source": [
    "# read in current dataset of locations\n",
    "res = requests.get(\"https://data.austintexas.gov/resource/qd73-bsdg.json?$select=kiosk_id as id, kiosk_name as name, point_latitude(location) as lat, point_longitude(location) as lon\")\n",
    "data = json.loads(res.text)\n",
    "odp = pd.DataFrame(data)"
   ]
  },
  {
   "cell_type": "code",
   "execution_count": 10,
   "id": "521e18ee-8a23-4ddd-aa79-2b61edf82ae5",
   "metadata": {},
   "outputs": [
    {
     "data": {
      "text/html": [
       "<div>\n",
       "<style scoped>\n",
       "    .dataframe tbody tr th:only-of-type {\n",
       "        vertical-align: middle;\n",
       "    }\n",
       "\n",
       "    .dataframe tbody tr th {\n",
       "        vertical-align: top;\n",
       "    }\n",
       "\n",
       "    .dataframe thead th {\n",
       "        text-align: right;\n",
       "    }\n",
       "</style>\n",
       "<table border=\"1\" class=\"dataframe\">\n",
       "  <thead>\n",
       "    <tr style=\"text-align: right;\">\n",
       "      <th></th>\n",
       "      <th>id</th>\n",
       "      <th>name</th>\n",
       "      <th>lat</th>\n",
       "      <th>lon</th>\n",
       "    </tr>\n",
       "  </thead>\n",
       "  <tbody>\n",
       "    <tr>\n",
       "      <th>0</th>\n",
       "      <td>11</td>\n",
       "      <td>22nd 1/2 &amp; Rio Grande</td>\n",
       "      <td>30.2862</td>\n",
       "      <td>-97.74516</td>\n",
       "    </tr>\n",
       "    <tr>\n",
       "      <th>1</th>\n",
       "      <td>111</td>\n",
       "      <td>23rd &amp; San Gabriel</td>\n",
       "      <td>30.2874</td>\n",
       "      <td>-97.7478</td>\n",
       "    </tr>\n",
       "    <tr>\n",
       "      <th>2</th>\n",
       "      <td>1001</td>\n",
       "      <td>OFFICE/Main/Shop/Repair</td>\n",
       "      <td>30.27186</td>\n",
       "      <td>-97.73997</td>\n",
       "    </tr>\n",
       "    <tr>\n",
       "      <th>3</th>\n",
       "      <td>1002</td>\n",
       "      <td>6th &amp; Navasota St.</td>\n",
       "      <td>30.26383</td>\n",
       "      <td>-97.72864</td>\n",
       "    </tr>\n",
       "    <tr>\n",
       "      <th>4</th>\n",
       "      <td>1003</td>\n",
       "      <td>8th &amp; Guadalupe</td>\n",
       "      <td>30.27106</td>\n",
       "      <td>-97.74563</td>\n",
       "    </tr>\n",
       "    <tr>\n",
       "      <th>...</th>\n",
       "      <td>...</td>\n",
       "      <td>...</td>\n",
       "      <td>...</td>\n",
       "      <td>...</td>\n",
       "    </tr>\n",
       "    <tr>\n",
       "      <th>97</th>\n",
       "      <td>4061</td>\n",
       "      <td>Lakeshore @ Austin Hostel</td>\n",
       "      <td>30.24472</td>\n",
       "      <td>-97.72336</td>\n",
       "    </tr>\n",
       "    <tr>\n",
       "      <th>98</th>\n",
       "      <td>4062</td>\n",
       "      <td>Lakeshore &amp; Pleasant Valley</td>\n",
       "      <td>30.24258</td>\n",
       "      <td>-97.71726</td>\n",
       "    </tr>\n",
       "    <tr>\n",
       "      <th>99</th>\n",
       "      <td>4699</td>\n",
       "      <td>East 5th/Shady @ Eastside Bus Plaza</td>\n",
       "      <td>30.25212</td>\n",
       "      <td>-97.69807</td>\n",
       "    </tr>\n",
       "    <tr>\n",
       "      <th>100</th>\n",
       "      <td>4879</td>\n",
       "      <td>16th/San Antonio</td>\n",
       "      <td>30.27924</td>\n",
       "      <td>-97.74371</td>\n",
       "    </tr>\n",
       "    <tr>\n",
       "      <th>101</th>\n",
       "      <td>0</td>\n",
       "      <td>South Congress/Mary</td>\n",
       "      <td>30.244961</td>\n",
       "      <td>-97.751272</td>\n",
       "    </tr>\n",
       "  </tbody>\n",
       "</table>\n",
       "<p>102 rows × 4 columns</p>\n",
       "</div>"
      ],
      "text/plain": [
       "       id                                 name        lat         lon\n",
       "0      11                22nd 1/2 & Rio Grande    30.2862   -97.74516\n",
       "1     111                   23rd & San Gabriel    30.2874    -97.7478\n",
       "2    1001              OFFICE/Main/Shop/Repair   30.27186   -97.73997\n",
       "3    1002                   6th & Navasota St.   30.26383   -97.72864\n",
       "4    1003                      8th & Guadalupe   30.27106   -97.74563\n",
       "..    ...                                  ...        ...         ...\n",
       "97   4061            Lakeshore @ Austin Hostel   30.24472   -97.72336\n",
       "98   4062          Lakeshore & Pleasant Valley   30.24258   -97.71726\n",
       "99   4699  East 5th/Shady @ Eastside Bus Plaza   30.25212   -97.69807\n",
       "100  4879                     16th/San Antonio   30.27924   -97.74371\n",
       "101     0                  South Congress/Mary  30.244961  -97.751272\n",
       "\n",
       "[102 rows x 4 columns]"
      ]
     },
     "execution_count": 10,
     "metadata": {},
     "output_type": "execute_result"
    }
   ],
   "source": [
    "odp"
   ]
  },
  {
   "cell_type": "code",
   "execution_count": 32,
   "id": "863700ee-e207-4c21-bd11-c1f77ae63d8b",
   "metadata": {},
   "outputs": [],
   "source": [
    "a = pd.concat([odp,locs])\n",
    "a[\"id\"] = a[\"id\"].astype(str)\n",
    "a = a.drop_duplicates(subset=[\"id\"], keep=\"first\")"
   ]
  },
  {
   "cell_type": "code",
   "execution_count": 40,
   "id": "caae979e-7432-473c-9ac3-cddfbfaa40de",
   "metadata": {},
   "outputs": [],
   "source": [
    "df = df[df[\"origin\"].isin(list(a[\"id\"]))]\n",
    "df = df[df[\"dest\"].isin(list(a[\"id\"]))]"
   ]
  },
  {
   "cell_type": "code",
   "execution_count": 41,
   "id": "8c80a843-3789-4bc6-a45e-b7327099d396",
   "metadata": {},
   "outputs": [],
   "source": [
    "output_cols = [\"origin\", \"dest\", \"count\", \"time\"]\n",
    "with pd.ExcelWriter(\"metrobike.xlsx\") as writer:  \n",
    "    for y in years:\n",
    "        output_df = df[df[\"year\"] == y]\n",
    "        output_df[output_cols].to_excel(writer, sheet_name=f\"{y} Trips\", index=False)\n",
    "    a.to_excel(writer, sheet_name=f\"locations\", index=False)"
   ]
  }
 ],
 "metadata": {
  "kernelspec": {
   "display_name": "Python 3 (ipykernel)",
   "language": "python",
   "name": "python3"
  },
  "language_info": {
   "codemirror_mode": {
    "name": "ipython",
    "version": 3
   },
   "file_extension": ".py",
   "mimetype": "text/x-python",
   "name": "python",
   "nbconvert_exporter": "python",
   "pygments_lexer": "ipython3",
   "version": "3.9.18"
  }
 },
 "nbformat": 4,
 "nbformat_minor": 5
}
