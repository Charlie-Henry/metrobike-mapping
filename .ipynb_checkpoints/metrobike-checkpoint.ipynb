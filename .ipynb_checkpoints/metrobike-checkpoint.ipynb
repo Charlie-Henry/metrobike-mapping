{
 "cells": [
  {
   "cell_type": "code",
   "execution_count": 8,
   "id": "1864e91c-c303-46eb-8f60-1fee82dbfec4",
   "metadata": {},
   "outputs": [],
   "source": [
    "import pandas as pd\n",
    "import requests\n",
    "import json"
   ]
  },
  {
   "cell_type": "code",
   "execution_count": 6,
   "id": "309bc3fc-1002-4e19-8e4a-0f78e20eb8bc",
   "metadata": {},
   "outputs": [],
   "source": [
    "query = \"\"\"\n",
    "https://data.austintexas.gov/resource/tyfh-5r8s.json?$select=count(trip_id),%20checkout_date,%20checkout_kiosk_id,%20return_kiosk_id, date_extract_y(checkout_date) as year&year=2023&$group=checkout_date,%20checkout_kiosk_id,%20return_kiosk_id\n",
    "\"\"\""
   ]
  },
  {
   "cell_type": "code",
   "execution_count": 10,
   "id": "86e11055-e423-42ec-b839-8eced6df165a",
   "metadata": {},
   "outputs": [],
   "source": [
    "chunk_size = 10000\n",
    "\n",
    "offset = 0\n",
    "res = requests.get(query + f\"&$limit={chunk_size}&$offset={offset}\")\n",
    "data = json.loads(res.text)\n",
    "output = []"
   ]
  },
  {
   "cell_type": "code",
   "execution_count": null,
   "id": "d20538b0-c913-4106-9f62-cd6c97741c37",
   "metadata": {},
   "outputs": [],
   "source": [
    "while data:\n",
    "    output.append(data)\n",
    "    offset += chunk_size\n",
    "    res = requests.get(query + f\"&$limit={chunk_size}&$offset={offset}\")\n",
    "    data = json.loads(res.text)"
   ]
  }
 ],
 "metadata": {
  "kernelspec": {
   "display_name": "Python 3 (ipykernel)",
   "language": "python",
   "name": "python3"
  },
  "language_info": {
   "codemirror_mode": {
    "name": "ipython",
    "version": 3
   },
   "file_extension": ".py",
   "mimetype": "text/x-python",
   "name": "python",
   "nbconvert_exporter": "python",
   "pygments_lexer": "ipython3",
   "version": "3.9.18"
  }
 },
 "nbformat": 4,
 "nbformat_minor": 5
}
